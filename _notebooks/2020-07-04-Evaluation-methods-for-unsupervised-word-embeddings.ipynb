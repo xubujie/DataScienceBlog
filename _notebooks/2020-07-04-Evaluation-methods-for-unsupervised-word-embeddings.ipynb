{
 "cells": [
  {
   "cell_type": "markdown",
   "metadata": {},
   "source": [
    "# Evaluation methods for unsupervised word embeddings\n",
    "> Evaluation methods for unsupervised word embeddings review\n",
    "\n",
    "- toc: true \n",
    "- badges: true\n",
    "- comments: true\n",
    "- author: Bujie Xu\n",
    "- categories: [NLP]"
   ]
  },
  {
   "cell_type": "markdown",
   "metadata": {},
   "source": [
    "本文比较了各种衡量词向量的方法，并提出了一种新的评测词向量的方法。本文主要有以下贡献\n",
    "- 分析了不同评判标准间的关系，表明了生成词向量的方式要和特殊任务相关联\n",
    "- 提出了一种通过人为评分方式衡量直接衡量单个词向量的方法\n",
    "- 提出了选择词向量（用于评价）时要考虑到选择不同词频，词性，词义的向量。保证数据的多样性\n",
    "- 本文还发现了词向量包含着词频信息\n",
    "\n",
    "需要注意的是这篇文章的目的不是去比较词向量的好坏，而是去研究评判词向量方法的差别。"
   ]
  },
  {
   "cell_type": "markdown",
   "metadata": {},
   "source": [
    "## 1. Embeeding的准备"
   ]
  },
  {
   "cell_type": "markdown",
   "metadata": {},
   "source": [
    "本文准备了以下六种生成词向量的方式用于评判：\n",
    "- 基于概率预测的embeeding\n",
    "    - CBOW model of word2vec (Mikolov et al 2013a)\n",
    "    - C&W embeddings (Collobert et al. 2011)\n",
    "- 基于反应语料中的词汇的同现关系\n",
    "    - Hellinger PCA (Lebret and COllobert 2014)\n",
    "    - GloVe (Pennington et al., 2014)\n",
    "    - TSCCA (Dhillon et al., 2012)\n",
    "    - Sparse Random Projections (Li et al., 2006)\n",
    "\n",
    "对于C&W的词向，因为只有基于2007年的维基百科的。所以本文选取了2008-03-01日的维基百科来训练其余5中词向量。这里，所有词向量的维度为50，总共的词典大小为103647"
   ]
  },
  {
   "cell_type": "markdown",
   "metadata": {},
   "source": [
    "## 2. Evaluation"
   ]
  },
  {
   "cell_type": "markdown",
   "metadata": {},
   "source": [
    "评价词向量主要有两种方式，一种是内部评价（intrinsic evaluation），另一种是外部评价（extrinsic evaluation）。\n",
    "\n",
    "内部评价指的是用词的词性，相关性等内部固有关系来评价生成的词向量的好坏。\n",
    "外部评价指的是用生成的词向量去作为下游任务的输入，看哪种词向量可以更好的实现下游任务。"
   ]
  },
  {
   "cell_type": "markdown",
   "metadata": {},
   "source": [
    "### 内部评价（intrinsic evaluation）\n",
    "对于内部评价，本文采用的绝对的内部评价（absolute intrinsic evaluation）和相对的内部评价（comparative intrinsic evaluation），绝对内部评价有以下方法\n",
    "- Relatedness：比较生成的词向量的词于词之间的余弦相似度和人类评价的相似度的关系\n",
    "- Analogy：对于一个y，去找到一个x，使得x:y的关系要和a:b的关系一样\n",
    "- Categorization：把生成的词向量做聚类，看聚类是否准确\n",
    "- Selectional preference：确定一个词是某个动词的主语还是宾语"
   ]
  },
  {
   "cell_type": "markdown",
   "metadata": {},
   "source": [
    "评价结果如下,可以看出，绝大多数任务中，CBOW表现最好。但是个别任务里，其他词向量更好\n",
    "\n",
    "![Embedding1](images/Embedding1.PNG)"
   ]
  },
  {
   "cell_type": "markdown",
   "metadata": {},
   "source": [
    "在相对内部评价中，用户直接来判断词向量的好坏。作者的具体做法如下，\n",
    "- 选取了词频，词性和词义不同的100个单词（选择10种类别的词，每种类别里有一个形容词，一个动词，4个名词，4个动词）\n",
    "- 找出每个词的n nearest neighbors, 选取rank为1，5，50的neighbor。所以对于6中词向量，对于每一个词，我们分为计算出rank为1，5，50的neighbor。\n",
    "- 让人类来分别评价6中词向量中，rank1，5，50的neighbor里哪个于选定词最近。\n",
    "\n",
    "结果如下,同样可以看出，没有一种词向量是在所有任务中都表现最好的\n",
    "\n",
    "![Embedding2](images/Embedding2.PNG)"
   ]
  },
  {
   "cell_type": "markdown",
   "metadata": {},
   "source": [
    "在相似度（relatedness）的比较中，我们对于任意一个单词，我们只找了一个相近的单词，这并不理想（因为每个单词都有很多近义词）。所以作者提出了一种新的衡量方式：Coherence。对于每一个单词，事先选出两个近义词和一个不相关的词，看用生成的词向量能否辨别出不想关的词。\n",
    "\n",
    "结果如下,可以看出不同词向量的生成方法，对于不同词频的单词，所得到的结果是不同的\n",
    "\n",
    "![Embedding3](images/Embedding3.PNG)"
   ]
  },
  {
   "cell_type": "markdown",
   "metadata": {},
   "source": [
    "### 外部评价（Extrinsic evaluation）"
   ]
  },
  {
   "cell_type": "markdown",
   "metadata": {},
   "source": [
    "外部评价主要用来测量词向量对于下游任务的贡献。本文选取了以下两种下游任务来评判\n",
    "\n",
    "- Noun phrase chunking：名词分块\n",
    "- Sentiment classification：情感分类\n",
    "\n",
    "结果如下，对于下游任务，同样的，没有一种词向量可以在所有下游任务中都表现最好，所以对于不同下游任务，我们应该尝试不同词向量的表示\n",
    "\n",
    "![Embedding4](images/Embedding4.PNG)"
   ]
  },
  {
   "cell_type": "markdown",
   "metadata": {},
   "source": [
    "## 3. Frequency information"
   ]
  },
  {
   "cell_type": "markdown",
   "metadata": {},
   "source": [
    "最后，作者通过以下两种实验发现了词向量里面包含词频信息。\n",
    "- 用词向量来预测单词在语料中词频\n",
    "- 对于所有在WordSim-353数据集的单词，研究其K=1000 nearest neighbors和他们在语料中词频的大小排序。\n",
    "\n",
    "结果如下,可以看出，我们可以通过词向量来较好的预测单词的词频，其中GloVe和CCA中包含了较多的词频信息。另外单词的词频于其在语料库里的词频排名也有很强的相关性\n",
    "\n",
    "![Embedding5](images/Embedding5.PNG)"
   ]
  },
  {
   "cell_type": "markdown",
   "metadata": {},
   "source": [
    "## 4. 思考"
   ]
  },
  {
   "cell_type": "markdown",
   "metadata": {},
   "source": [
    "通过本文，我们发现没有任何一种词向量可以在所有任务中都表现的最好，所以每个单词应该不存在一种绝对正确的词向量。那么，词向量是否是用来表示单词的最好方式呢，我对此表示疑问。以后很有可能会发现一种新的表示单词的方式。"
   ]
  }
 ],
 "metadata": {
  "kernelspec": {
   "display_name": "Python 3",
   "language": "python",
   "name": "python3"
  },
  "language_info": {
   "codemirror_mode": {
    "name": "ipython",
    "version": 3
   },
   "file_extension": ".py",
   "mimetype": "text/x-python",
   "name": "python",
   "nbconvert_exporter": "python",
   "pygments_lexer": "ipython3",
   "version": "3.7.4"
  }
 },
 "nbformat": 4,
 "nbformat_minor": 4
}
